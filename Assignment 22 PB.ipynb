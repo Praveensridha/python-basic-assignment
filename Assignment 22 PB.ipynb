{
 "cells": [
  {
   "cell_type": "code",
   "execution_count": 3,
   "id": "a9ec4a30",
   "metadata": {},
   "outputs": [
    {
     "ename": "SyntaxError",
     "evalue": "invalid syntax (Temp/ipykernel_11160/776885700.py, line 4)",
     "output_type": "error",
     "traceback": [
      "\u001b[1;36m  File \u001b[1;32m\"C:\\Users\\PC\\AppData\\Local\\Temp/ipykernel_11160/776885700.py\"\u001b[1;36m, line \u001b[1;32m4\u001b[0m\n\u001b[1;33m    >>> X = 'iNeuron'\u001b[0m\n\u001b[1;37m    ^\u001b[0m\n\u001b[1;31mSyntaxError\u001b[0m\u001b[1;31m:\u001b[0m invalid syntax\n"
     ]
    }
   ],
   "source": [
    "#1. What is the result of the code, and explain?\n",
    "\n",
    "\n",
    ">>> X = 'iNeuron'\n",
    ">>> def func(10):\n",
    "print(X)\n",
    "\n",
    "\n",
    ">>> func(20)\n"
   ]
  },
  {
   "cell_type": "code",
   "execution_count": null,
   "id": "0f8d79a9",
   "metadata": {},
   "outputs": [],
   "source": [
    "Then, it would print 20 once but then, due to recursion, it would print 10 time after time until Python’s recursion depth was exceeded.\n",
    "\n",
    "I wonder why you ask? The correct thing is to try the code yourself and see what happens and then say to yourself “Now, why did that happen?”. That is the only way to learn\n"
   ]
  },
  {
   "cell_type": "code",
   "execution_count": null,
   "id": "606549db",
   "metadata": {},
   "outputs": [],
   "source": [
    "2. What is the result of the code, and explain?\n",
    "\n",
    "\n",
    ">>> X = 'iNeuron'\n",
    ">>> def func(10):\n",
    "X = 'NI!'\n",
    "\n",
    "\n",
    ">>> func(20)\n",
    ">>> print(X)\n",
    "\n"
   ]
  },
  {
   "cell_type": "code",
   "execution_count": null,
   "id": "3cbf5b35",
   "metadata": {},
   "outputs": [],
   "source": [
    "Then, it would print 20 once but then, due to recursion, it would print 10 time after time until Python’s recursion depth was exceeded.\n",
    "\n",
    "I wonder why you ask? The correct thing is to try the code yourself and see what happens and then say to yourself “Now, why did that happen?”. That is the only way to learn\n"
   ]
  },
  {
   "cell_type": "code",
   "execution_count": null,
   "id": "3736c53a",
   "metadata": {},
   "outputs": [],
   "source": [
    "3. What does this code print, and why?\n",
    "\n",
    "\n",
    ">>> X = 'iNeuron'\n",
    ">>> def func():\n",
    "X = 'NI'\n",
    "print(X)\n",
    "\n",
    "\n",
    ">>> func()\n",
    ">>> print(X)\n",
    "\n"
   ]
  },
  {
   "cell_type": "code",
   "execution_count": null,
   "id": "5adf7bf6",
   "metadata": {},
   "outputs": [],
   "source": [
    "Many hoc functions use call by reference and return information by changing the value of an argument. These are called from the Python world by passing a HocObject.ref() object. Here is an example that changes a string."
   ]
  },
  {
   "cell_type": "code",
   "execution_count": null,
   "id": "0fc9cb5c",
   "metadata": {},
   "outputs": [],
   "source": [
    "\n",
    "4. What output does this code produce? Why?\n",
    "\n",
    "\n",
    ">>> X = 'iNeuron'\n",
    ">>> def func():\n",
    "global X\n",
    "X = 'NI'\n",
    "\n",
    "\n",
    ">>> func()\n",
    ">>> print(X)\n",
    "\n"
   ]
  },
  {
   "cell_type": "code",
   "execution_count": null,
   "id": "764ad688",
   "metadata": {},
   "outputs": [],
   "source": [
    "Any Python object can be stored in a Hoc List. It is more efficient when navigating the List to use a python callable that avoids repeated lookup of a Hoc method symbol. Note that in the Hoc world a python object is of type PythonObject but python strings and scalars are translated back and forth as strdef and scalar doubles respectively."
   ]
  },
  {
   "cell_type": "code",
   "execution_count": null,
   "id": "4e541e95",
   "metadata": {},
   "outputs": [],
   "source": [
    "5. What about this code—what’s the output, and why?\n",
    "\n",
    "\n",
    ">>> X = 'iNeuron'\n",
    ">>> def func():\n",
    "X = 'NI'\n",
    "def nested():\n",
    "print(X)\n",
    "nested()\n",
    "\n",
    "\n",
    ">>> func()\n",
    ">>> X\n"
   ]
  },
  {
   "cell_type": "code",
   "execution_count": null,
   "id": "baacd963",
   "metadata": {},
   "outputs": [],
   "source": [
    "A Python Section can be made the currently accessed section by using its push method. Be sure to use  when done with it to restore the previous currently accessed section. I.e, given the above fragment,"
   ]
  },
  {
   "cell_type": "code",
   "execution_count": null,
   "id": "454725c3",
   "metadata": {},
   "outputs": [],
   "source": [
    "\n",
    "6. How about this code: what is its output in Python 3, and explain?\n",
    "\n",
    "\n",
    ">>> def func():\n",
    "X = 'NI'\n",
    "def nested():\n",
    "nonlocal X\n",
    "X = 'Spam'\n",
    "nested()\n",
    "print(X)\n",
    "\n",
    "\n",
    ">>> func()"
   ]
  },
  {
   "cell_type": "code",
   "execution_count": null,
   "id": "ef21a2e3",
   "metadata": {},
   "outputs": [],
   "source": [
    "A Mechanism object is obtained from a Segment. From a Mechanism one can obtain a range variable. The range variable can also be obtained from the segment by using the hoc range variable name that has the mechanism suffix."
   ]
  },
  {
   "cell_type": "code",
   "execution_count": null,
   "id": "010885cd",
   "metadata": {},
   "outputs": [],
   "source": []
  }
 ],
 "metadata": {
  "kernelspec": {
   "display_name": "Python 3 (ipykernel)",
   "language": "python",
   "name": "python3"
  },
  "language_info": {
   "codemirror_mode": {
    "name": "ipython",
    "version": 3
   },
   "file_extension": ".py",
   "mimetype": "text/x-python",
   "name": "python",
   "nbconvert_exporter": "python",
   "pygments_lexer": "ipython3",
   "version": "3.9.7"
  }
 },
 "nbformat": 4,
 "nbformat_minor": 5
}
